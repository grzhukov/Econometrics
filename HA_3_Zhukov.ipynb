{
 "cells": [
  {
   "cell_type": "code",
   "execution_count": 6,
   "metadata": {},
   "outputs": [
    {
     "name": "stdout",
     "output_type": "stream",
     "text": [
      "Результат работы 1-ой функции: 4625385.038503854\n",
      "Время работы 1-ой функции: 0.006283228000000008\n",
      "Результат работы 2-ой функции: 4625385.038503852\n",
      "Время работы 2-ой функции: 0.17882010249999997\n",
      "Результат работы 3-ей функции: 4625385.03850385\n",
      "Время работы 3-ей функции: 1.4310599999816987e-05\n"
     ]
    }
   ],
   "source": [
    "# 1.\n",
    "import numpy as np\n",
    "\n",
    "x = np.linspace(1, 11, 10000) # возвращает одномерный массив из 1000 элементов,\n",
    "w = np.linspace(1, 14, 10000) # значения которых равномерно распределены в указ интервале\n",
    "\n",
    "from timeit import timeit   # время работы программы\n",
    "def mytimeit(fun, *args):   # *args - когда заранее неизвестно, какое кол-во аргументов \n",
    "    n = 1000\n",
    "    t = timeit(lambda: fun(*args), number=n)\n",
    "    return t/n\n",
    "\n",
    "\n",
    "def func_1(x, w):\n",
    "    S = 0\n",
    "    for i in range(10000): # итерируемся по массивам, переменожаем поэлементно и суммируем\n",
    "        S += w[i]*x[i]*x[i]\n",
    "    return S\n",
    "\n",
    "\n",
    "print('Результат работы 1-ой функции:', func_1(x, w))\n",
    "print('Время работы 1-ой функции:', mytimeit(func_1, x, w))\n",
    "\n",
    "def func_2(x, w):\n",
    "    w_ = np.diag(w)\n",
    "    x_T = np.transpose(x)  # меняем оси, эквивалентно транспонированию np.transpose(x) x[:, np.newaxis]\n",
    "    xw_ = np.dot(x, w_) # матричное умножение\n",
    "    xw_x_T = np.dot(xw_, x_T)\n",
    "    return xw_x_T\n",
    "\n",
    "\n",
    "print('Результат работы 2-ой функции:', func_2(x, w))\n",
    "print('Время работы 2-ой функции:', mytimeit(func_2, x, w))\n",
    "\n",
    "def func_3(x, w):\n",
    "    a = np.sum(np.multiply(np.multiply(x, w),x)) # поэлементное произведение и суммирование с помощью встроенных функций,\n",
    "                                                 # хотя, можно и проще: a = x*w@x  \n",
    "    return a\n",
    "    \n",
    "    \n",
    "print('Результат работы 3-ей функции:', func_3(x, w))\n",
    "print('Время работы 3-ей функции:',mytimeit(func_3, x, w))"
   ]
  },
  {
   "cell_type": "code",
   "execution_count": null,
   "metadata": {},
   "outputs": [],
   "source": [
    "Вывод: быстрее всего оказался стандартный цикл for. Чтобы без погрешностей оценить время, имеет смысл запускать в разных окнах."
   ]
  },
  {
   "cell_type": "code",
   "execution_count": 7,
   "metadata": {},
   "outputs": [
    {
     "name": "stdout",
     "output_type": "stream",
     "text": [
      "Результат работы 1-ой функции: 4625385.038503854\n",
      "Время работы 1-ой функции: 0.006313245600000073\n"
     ]
    }
   ],
   "source": [
    "import numpy as np\n",
    "\n",
    "x = np.linspace(1, 11, 10000) # возвращает одномерный массив из 1000 элементов,\n",
    "w = np.linspace(1, 14, 10000) # значения которых равномерно распределены в указ интервале\n",
    "\n",
    "from timeit import timeit   # время работы программы\n",
    "def mytimeit(fun, *args):   # *args - когда заранее неизвестно, какое кол-во аргументов \n",
    "    n = 1000\n",
    "    t = timeit(lambda: fun(*args), number=n)\n",
    "    return t/n\n",
    "\n",
    "\n",
    "def func_1(x, w):\n",
    "    S = 0\n",
    "    for i in range(10000): # итерируемся по массивам, переменожаем поэлементно и суммируем\n",
    "        S += w[i]*x[i]*x[i]\n",
    "    return S\n",
    "\n",
    "\n",
    "print('Результат работы 1-ой функции:', func_1(x, w))\n",
    "print('Время работы 1-ой функции:', mytimeit(func_1, x, w))"
   ]
  },
  {
   "cell_type": "code",
   "execution_count": 8,
   "metadata": {},
   "outputs": [
    {
     "name": "stdout",
     "output_type": "stream",
     "text": [
      "Результат работы 2-ой функции: 4625385.038503852\n",
      "Время работы 2-ой функции: 0.1916628386\n"
     ]
    }
   ],
   "source": [
    "from timeit import timeit   # время работы программы\n",
    "def mytimeit(fun, *args):   # *args - когда заранее неизвестно, какое кол-во аргументов \n",
    "    n = 1000\n",
    "    t = timeit(lambda: fun(*args), number=n)\n",
    "    return t/n\n",
    "\n",
    "\n",
    "def func_2(x, w):\n",
    "    w_ = np.diag(w)\n",
    "    x_T = np.transpose(x)  # меняем оси, эквивалентно транспонированию np.transpose(x) x[:, np.newaxis]\n",
    "    xw_ = np.dot(x, w_) # матричное умножение\n",
    "    xw_x_T = np.dot(xw_, x_T)\n",
    "    return xw_x_T\n",
    "\n",
    "\n",
    "print('Результат работы 2-ой функции:', func_2(x, w))\n",
    "print('Время работы 2-ой функции:', mytimeit(func_2, x, w))"
   ]
  },
  {
   "cell_type": "code",
   "execution_count": 76,
   "metadata": {},
   "outputs": [
    {
     "name": "stdout",
     "output_type": "stream",
     "text": [
      "12.10.2020\n",
      "13.09.2021\n",
      "336\n",
      "27.05.2019\n"
     ]
    }
   ],
   "source": [
    "# 2.\n",
    "\n",
    "class Date:\n",
    "    \n",
    "    def __init__(self, year, month, day): # метод __init__ вызывается сразу после создания объекта и отвечает за инициализацию.\n",
    "        self.year = year\n",
    "        self.month = month\n",
    "        self.day = day\n",
    "        \n",
    "    def __str__(self): # __str__ отвечает за то, как наш объект будет отображён __repr__ Видит РАЗРАБОТЧИК __str__  Видит ПОЛЬЗОВАТЕЛЬ\n",
    "        return '{:02d}.{:02d}.{:04d}'.format(self.day, self.month, self.year) # форматируем, чтобы дата выводилась в стандартном виде\n",
    "\n",
    "    \n",
    "    def compare(self, other): # сравнение дат по годам, месяцам и дням: 1 - больше, (-1) - меньше\n",
    "        if self.year - other.year != 0:\n",
    "            return abs(self.year - other.year) // (self.year - other.year) # нормируем,чтобы была единица с соотв знаком\n",
    "        elif self.month - other.month != 0:\n",
    "            return abs(self.month - other.month) // (self.month - other.month)\n",
    "        else:\n",
    "            return abs(self.day - other.day) // (self.day - other.day)\n",
    "    \n",
    "    \n",
    "    \n",
    "    def diff(self, other): # одноименные разницы умнодаем на соотв кол-во дней в году, месяце\n",
    "        return (self.year - other.year)*365 + (self.month - other.month)*30 + (self.day - other.day)\n",
    "        \n",
    "    \n",
    "    def add(self, other):\n",
    "        a = self.year*365 + self.month*30 + self.day # считаем, что все даты начинаются от нуля, переводим в общее кол-во дней,\n",
    "        a += other                                   # прошедших с нуля, далее прибавляем или вычитаем, заданное кол-во дней\n",
    "        self.year = a // 365                         # выделяем целую часть по годам\n",
    "        self.month = (a - (a//365)*365)//30          # месяцам\n",
    "        self.day = a - (a//365)*365 - ((a - (a//365)*365)//30)*30 # остальное в дни\n",
    "        return '{:02d}.{:02d}.{:04d}'.format(self.day, self.month, self.year)\n",
    "\n",
    "    \n",
    "d_1 = Date(2020, 10, 12)  \n",
    "d_1.year\n",
    "d_1.month\n",
    "d_1.day\n",
    "print(d_1)\n",
    "d_2 = Date(2021, 9, 13)\n",
    "print(d_2)\n",
    "\n",
    "d_1.compare(d_2)\n",
    "d_2.compare(d_1)\n",
    "print(d_2.diff(d_1))\n",
    "\n",
    "print(d_1.add(-500))"
   ]
  },
  {
   "cell_type": "code",
   "execution_count": 80,
   "metadata": {},
   "outputs": [
    {
     "name": "stdout",
     "output_type": "stream",
     "text": [
      "Mean:  0.00079\n",
      "Standart deviation:  0.011\n"
     ]
    }
   ],
   "source": [
    "import numpy as np\n",
    "import re\n",
    "import urllib.request\n",
    "from bs4 import BeautifulSoup\n",
    "\n",
    "url_xlsx = \"https://cbr.ru/Queries/UniDbQuery/DownloadExcel/98956?Posted=True&so=1&mode=1&VAL_NM_RQ=R01235&From=31.12.2018&To=21.09.2021&FromDate=12%2F31%2F2018&ToDate=09%2F21%2F2021\"\n",
    "\n",
    "date_from = \"2019-12-31\"  # можем задавать даты\n",
    "date_to   = \"2021-01-01\"\n",
    "\n",
    "def getData():\n",
    "    exelData = requests.get(url_xlsx).content # request - для http запросов, метод .get() - извлекаем данные из определенного ресурса\n",
    "    dataFrame = pd.read_excel(exelData).sort_values(by='data') # .content - содержимое, read_excel - чтение данных их excel файла,\n",
    "                                                               # .sort_values(by='') - по чему сортируем в пор возрастания\n",
    "    prev = np.NaN # у первого элемента нет предыдущего\n",
    "    arr = []\n",
    "    expr = \"{0} > \\\"{1}\\\" and {0} < \\\"{2}\\\"\".format(dataFrame.columns[1], date_from, date_to) # выбираем нужный диапазон\n",
    "    # print(dataFrame.keys().values)\n",
    "    for curs in dataFrame.query( expr ).values:  # итерируемся по строкам таблицы в результирующем запросе\n",
    "        profit = (curs[2] - prev) / prev         # последующее минус предыдущее, делим на предыдущее \n",
    "        # print( curs[1], curs[2], '{:.2}'.format( profit )) \n",
    "        if prev is not np.NaN :\n",
    "            arr.append(profit)\n",
    "        prev = curs[2]\n",
    "\n",
    "    print(\"Mean: \",'{:.2}'.format(np.average(arr))) # встроенные функции среднего и \n",
    "    print(\"Standart deviation: \",'{:.2}'.format(np.std(arr)))  # стандартного отклонения\n",
    "    # print(expr)\n",
    "\n",
    "getData()"
   ]
  },
  {
   "cell_type": "code",
   "execution_count": 81,
   "metadata": {},
   "outputs": [
    {
     "name": "stdout",
     "output_type": "stream",
     "text": [
      "Mean:  0.0012\n",
      "Standart deviation:  0.011\n"
     ]
    }
   ],
   "source": [
    "# R01239 - код евро, все пояснения аналогичны предыдущим\n",
    "\n",
    "import numpy as np\n",
    "import re\n",
    "import urllib.request\n",
    "from bs4 import BeautifulSoup\n",
    "\n",
    "url_xlsx = \"https://cbr.ru/Queries/UniDbQuery/DownloadExcel/98956?Posted=True&so=1&mode=1&VAL_NM_RQ=R01239&From=31.12.2018&To=21.09.2021&FromDate=12%2F31%2F2018&ToDate=09%2F21%2F2021\"\n",
    "\n",
    "date_from = \"2019-12-31\"\n",
    "date_to   = \"2021-01-01\"\n",
    "\n",
    "def getData():\n",
    "    exelData = requests.get(url_xlsx).content\n",
    "    dataFrame = pd.read_excel(exelData).sort_values(by='data')\n",
    "  \n",
    "    prev = np.NaN\n",
    "    arr = []\n",
    "    expr = \"{0} > \\\"{1}\\\" and {0} < \\\"{2}\\\"\".format(dataFrame.columns[1], date_from, date_to)\n",
    "    # print(dataFrame.keys().values)\n",
    "    for curs in dataFrame.query( expr ).values:  # итерируемся по строкам таблицы в результирующем запросе\n",
    "        profit = (curs[2] - prev) / prev \n",
    "        # print( curs[1], curs[2], '{:.2}'.format( profit )) \n",
    "        if prev is not np.NaN :\n",
    "            arr.append(profit)\n",
    "        prev = curs[2]\n",
    "\n",
    "    print(\"Mean: \",'{:.2}'.format(np.average(arr)))\n",
    "    print(\"Standart deviation: \",'{:.2}'.format(np.std(arr)))\n",
    "    # print(expr)\n",
    "\n",
    "getData()"
   ]
  },
  {
   "cell_type": "code",
   "execution_count": null,
   "metadata": {},
   "outputs": [],
   "source": []
  }
 ],
 "metadata": {
  "kernelspec": {
   "display_name": "Python 3",
   "language": "python",
   "name": "python3"
  },
  "language_info": {
   "codemirror_mode": {
    "name": "ipython",
    "version": 3
   },
   "file_extension": ".py",
   "mimetype": "text/x-python",
   "name": "python",
   "nbconvert_exporter": "python",
   "pygments_lexer": "ipython3",
   "version": "3.8.6"
  }
 },
 "nbformat": 4,
 "nbformat_minor": 4
}
