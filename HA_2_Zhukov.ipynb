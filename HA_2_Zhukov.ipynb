{
 "cells": [
  {
   "cell_type": "code",
   "execution_count": 22,
   "metadata": {},
   "outputs": [],
   "source": [
    "import numpy as np \n",
    "from scipy.stats import norm\n",
    "import statsmodels.stats.weightstats as ws"
   ]
  },
  {
   "cell_type": "code",
   "execution_count": 39,
   "metadata": {},
   "outputs": [
    {
     "name": "stdout",
     "output_type": "stream",
     "text": [
      "(1) the interval:\n",
      "(-inf, -1.8282178404199483)\n",
      "(2):\n",
      "H_0 отвергается\n"
     ]
    }
   ],
   "source": [
    "# Problem_2\n",
    "# n = 30\n",
    "X_i = [5.20, 4.70, 5.75, 7.50, 6.45, 6.55, 4.70, 4.80, 5.95, 5.20, 6.35, 6.95, 5.70, 6.20, 5.40, 6.20, 5.85, 6.80, 5.65, 5.50, 5.65, 5.85, 5.75, 6.35, 5.75, 5.95, 5.90, 7.00, 6.10, 5.80]\n",
    "\n",
    "# m = 30 \n",
    "Y_i = [8.25, 9.95, 5.90, 7.05, 8.45, 7.55, 9.80, 10.80, 6.60, 7.55, 8.10, 9.10, 6.10, 9.30, 8.75, 7.00, 7.80, 8.00, 9.00, 6.30, 8.35, 8.70, 8.00, 7.50, 9.50, 8.30, 7.05, 8.30, 7.95, 9.60]\n",
    "\n",
    "X_mean = np.mean(X_i)\n",
    "Y_mean = np.mean(Y_i)\n",
    "# print('X_:', X_mean)\n",
    "# print('Y_:', Y_mean)\n",
    "d_1 = ws.DescrStatsW(X_i)\n",
    "d_2 = ws.DescrStatsW(Y_i)\n",
    "dif = ws.CompareMeans(d_1, d_2)\n",
    "z_stat, p_value = dif.ztest_ind(alternative = 'smaller', usevar = 'unequal', value = 0)\n",
    "\n",
    "print('(1) the interval:')\n",
    "print(dif.zconfint_diff(alpha = 0.05, alternative = 'smaller', usevar = 'unequal'))\n",
    "print('(2):')\n",
    "def test_hyp(p_value, alpha):\n",
    "    if p_value < alpha:\n",
    "        print('H_0 отвергается')\n",
    "    else:\n",
    "        print('H_0 не отвергается')\n",
    "alpha = 0.05        \n",
    "test_hyp(p_value, alpha)"
   ]
  },
  {
   "cell_type": "code",
   "execution_count": 43,
   "metadata": {},
   "outputs": [
    {
     "name": "stdout",
     "output_type": "stream",
     "text": [
      "0.03124781476281394\n",
      "H_0 отвергается\n"
     ]
    }
   ],
   "source": [
    "# Problem_3\n",
    "import statsmodels.stats.proportion\n",
    "p_value = statsmodels.stats.proportion.binom_test(count = 204, nobs = 300, prop = 0.73, alternative = 'smaller')\n",
    "print(p_value)\n",
    "test_hyp(p_value, alpha)"
   ]
  }
 ],
 "metadata": {
  "kernelspec": {
   "display_name": "Python 3",
   "language": "python",
   "name": "python3"
  },
  "language_info": {
   "codemirror_mode": {
    "name": "ipython",
    "version": 3
   },
   "file_extension": ".py",
   "mimetype": "text/x-python",
   "name": "python",
   "nbconvert_exporter": "python",
   "pygments_lexer": "ipython3",
   "version": "3.8.6"
  }
 },
 "nbformat": 4,
 "nbformat_minor": 4
}
