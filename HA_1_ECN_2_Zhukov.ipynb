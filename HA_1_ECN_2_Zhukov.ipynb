{
 "cells": [
  {
   "cell_type": "code",
   "execution_count": 29,
   "metadata": {},
   "outputs": [],
   "source": [
    "import pandas as pd\n",
    "import datetime\n",
    "import numpy as np\n",
    "import matplotlib.pyplot as plt\n",
    "import matplotlib as mpl\n",
    "import statsmodels.api as sm\n",
    "import statsmodels.tsa.stattools as tsa\n",
    "\n",
    "\n",
    "# from scipy.stats import skew, kurtosis\n",
    "# from statsmodels.graphics.tsaplots import plot_acf\n",
    "# from statsmodels.graphics.tsaplots import plot_pacf\n",
    "# from statsmodels.tsa.arima.model import ARIMA\n",
    "# from statsmodels.stats.diagnostic import acorr_ljungbox \n",
    "# from pandas.api.types import is_numeric_dtype"
   ]
  },
  {
   "cell_type": "code",
   "execution_count": null,
   "metadata": {},
   "outputs": [],
   "source": [
    "TIMESPAN МИКРОСЕКУНДЫ\n",
    "разница между первым и последним час \n",
    "каждый тик - несколько микросекунд\n",
    "\n",
    "Идём \n",
    "\n",
    "ШЕСТЬ ПОСЛЕДНИХ МИКРОСЕКУНДЫ"
   ]
  },
  {
   "cell_type": "code",
   "execution_count": 30,
   "metadata": {},
   "outputs": [],
   "source": [
    "mpl.rcParams['figure.figsize'] = (16, 9)\n",
    "mpl.rcParams['figure.dpi'] = 150"
   ]
  },
  {
   "cell_type": "code",
   "execution_count": 39,
   "metadata": {},
   "outputs": [
    {
     "data": {
      "text/plain": [
       "0         Month\n",
       "1      Apr-1982\n",
       "2      May-1982\n",
       "3      Jun-1982\n",
       "4      Jul-1982\n",
       "         ...   \n",
       "377    Aug-2013\n",
       "378    Sep-2013\n",
       "379    Oct-2013\n",
       "380    Nov-2013\n",
       "381    Dec-2013\n",
       "Name: Unnamed: 0, Length: 382, dtype: object"
      ]
     },
     "execution_count": 39,
     "metadata": {},
     "output_type": "execute_result"
    }
   ],
   "source": [
    "# Problem_1\n",
    "# 1_read and covert to TS\n",
    "with open(r'C:\\Users\\grzhu\\Desktop\\NES\\3 module\\Econometrics - 2\\HA_1_Zhukov\\retail.csv', encoding='utf-8') as f:\n",
    "    df = pd.read_csv(f)\n",
    "    \n",
    "\n",
    "# df['Month'] = pd.to_datetime(df['Month'])\n",
    "\n",
    "# df.set_index('Month', inplace = True)\n",
    "\n",
    "# df = df.iloc[:,0:1]\n",
    "\n",
    "df['Unnamed: 0']"
   ]
  },
  {
   "cell_type": "code",
   "execution_count": null,
   "metadata": {},
   "outputs": [],
   "source": []
  },
  {
   "cell_type": "code",
   "execution_count": null,
   "metadata": {},
   "outputs": [],
   "source": []
  },
  {
   "cell_type": "code",
   "execution_count": null,
   "metadata": {},
   "outputs": [],
   "source": []
  }
 ],
 "metadata": {
  "kernelspec": {
   "display_name": "Python 3",
   "language": "python",
   "name": "python3"
  },
  "language_info": {
   "codemirror_mode": {
    "name": "ipython",
    "version": 3
   },
   "file_extension": ".py",
   "mimetype": "text/x-python",
   "name": "python",
   "nbconvert_exporter": "python",
   "pygments_lexer": "ipython3",
   "version": "3.8.6"
  }
 },
 "nbformat": 4,
 "nbformat_minor": 4
}
